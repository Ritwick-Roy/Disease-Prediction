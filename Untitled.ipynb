{
 "cells": [
  {
   "cell_type": "code",
   "execution_count": 1,
   "id": "6d9ae763",
   "metadata": {},
   "outputs": [],
   "source": [
    "import pandas as pd\n",
    "import pickle\n",
    "from sklearn.metrics import accuracy_score\n",
    "from xgboost import XGBClassifier"
   ]
  },
  {
   "cell_type": "code",
   "execution_count": 2,
   "id": "d19f1ec1",
   "metadata": {},
   "outputs": [],
   "source": [
    "model=XGBClassifier()\n",
    "model.load_model('xgmodel.json')"
   ]
  },
  {
   "cell_type": "code",
   "execution_count": 3,
   "id": "7ebaaea5",
   "metadata": {},
   "outputs": [],
   "source": [
    "data=pd.read_csv('testing.csv')\n",
    "y=data['prognosis'].unique()\n",
    "k=0\n",
    "m={}\n",
    "for x in y:\n",
    "    m[x]=k\n",
    "    k+=1\n",
    "\n",
    "y=data.prognosis.copy()\n",
    "for i in range(len(y)):\n",
    "    y[i]=int(m[y[i]])\n",
    "\n",
    "y=y.astype(str).astype(int)"
   ]
  },
  {
   "cell_type": "code",
   "execution_count": 4,
   "id": "06ff1dac",
   "metadata": {},
   "outputs": [],
   "source": [
    "X=data[['mild_fever',\n",
    " 'blood_in_sputum',\n",
    " 'pain_behind_the_eyes',\n",
    " 'coma',\n",
    " 'receiving_blood_transfusion',\n",
    " 'throat_irritation',\n",
    " 'rusty_sputum',\n",
    " 'slurred_speech',\n",
    " 'enlarged_thyroid',\n",
    " 'malaise',\n",
    " 'increased_appetite',\n",
    " 'dehydration',\n",
    " 'shivering',\n",
    " 'spotting_ urination',\n",
    " 'muscle_wasting',\n",
    " 'unsteadiness',\n",
    " 'pus_filled_pimples',\n",
    " 'dischromic _patches',\n",
    " 'mucoid_sputum',\n",
    " 'ulcers_on_tongue',\n",
    " 'passage_of_gases',\n",
    " 'altered_sensorium',\n",
    " 'weakness_in_limbs',\n",
    " 'visual_disturbances',\n",
    " 'movement_stiffness',\n",
    " 'hip_joint_pain',\n",
    " 'lack_of_concentration',\n",
    " 'skin_peeling',\n",
    " 'irritability',\n",
    " 'blister',\n",
    " 'pain_in_anal_region',\n",
    " 'belly_pain',\n",
    " 'swollen_legs',\n",
    " 'bladder_discomfort']]"
   ]
  },
  {
   "cell_type": "code",
   "execution_count": 5,
   "id": "a47efc6f",
   "metadata": {},
   "outputs": [],
   "source": [
    "pred=model.predict(X)"
   ]
  },
  {
   "cell_type": "code",
   "execution_count": 6,
   "id": "bd6b019a",
   "metadata": {},
   "outputs": [
    {
     "name": "stdout",
     "output_type": "stream",
     "text": [
      "Accuracy: 83.33%\n"
     ]
    }
   ],
   "source": [
    "print(\"Accuracy: %.2f%%\" % (accuracy_score(y,pred) * 100.0))"
   ]
  }
 ],
 "metadata": {
  "kernelspec": {
   "display_name": "Python 3",
   "language": "python",
   "name": "python3"
  },
  "language_info": {
   "codemirror_mode": {
    "name": "ipython",
    "version": 3
   },
   "file_extension": ".py",
   "mimetype": "text/x-python",
   "name": "python",
   "nbconvert_exporter": "python",
   "pygments_lexer": "ipython3",
   "version": "3.8.8"
  }
 },
 "nbformat": 4,
 "nbformat_minor": 5
}
