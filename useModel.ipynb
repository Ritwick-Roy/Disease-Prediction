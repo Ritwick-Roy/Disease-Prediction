{
 "cells": [
  {
   "cell_type": "code",
   "execution_count": 1,
   "id": "b300136d",
   "metadata": {},
   "outputs": [],
   "source": [
    "import pandas as pd\n",
    "from sklearn.metrics import accuracy_score\n",
    "from xgboost import XGBClassifier"
   ]
  },
  {
   "cell_type": "code",
   "execution_count": 2,
   "id": "23b5a920",
   "metadata": {},
   "outputs": [],
   "source": [
    "model=XGBClassifier()\n",
    "model.load_model('xgmodel.json')"
   ]
  },
  {
   "cell_type": "code",
   "execution_count": 3,
   "id": "394a1074",
   "metadata": {},
   "outputs": [],
   "source": [
    "data=pd.read_csv('testing.csv')\n",
    "y=data['prognosis'].unique()\n",
    "k=0\n",
    "m={}\n",
    "for x in y:\n",
    "    m[x]=k\n",
    "    k+=1\n",
    "\n",
    "y=data.prognosis.copy()\n",
    "for i in range(len(y)):\n",
    "    y[i]=int(m[y[i]])\n",
    "\n",
    "y=y.astype(str).astype(int)"
   ]
  },
  {
   "cell_type": "code",
   "execution_count": 8,
   "id": "64f008a4",
   "metadata": {},
   "outputs": [],
   "source": [
    "import json\n",
    "temp=json.load(open('xgmodel.json'))\n",
    "columns=temp['learner']['feature_names']\n",
    "X=data[columns]"
   ]
  },
  {
   "cell_type": "code",
   "execution_count": 9,
   "id": "381c46ac",
   "metadata": {},
   "outputs": [],
   "source": [
    "pred=model.predict(X)"
   ]
  },
  {
   "cell_type": "code",
   "execution_count": 10,
   "id": "03b825c7",
   "metadata": {},
   "outputs": [
    {
     "name": "stdout",
     "output_type": "stream",
     "text": [
      "Accuracy: 78.57%\n"
     ]
    }
   ],
   "source": [
    "print(\"Accuracy: %.2f%%\" % (accuracy_score(y,pred) * 100.0))"
   ]
  }
 ],
 "metadata": {
  "kernelspec": {
   "display_name": "Python 3",
   "language": "python",
   "name": "python3"
  },
  "language_info": {
   "codemirror_mode": {
    "name": "ipython",
    "version": 3
   },
   "file_extension": ".py",
   "mimetype": "text/x-python",
   "name": "python",
   "nbconvert_exporter": "python",
   "pygments_lexer": "ipython3",
   "version": "3.8.8"
  }
 },
 "nbformat": 4,
 "nbformat_minor": 5
}
