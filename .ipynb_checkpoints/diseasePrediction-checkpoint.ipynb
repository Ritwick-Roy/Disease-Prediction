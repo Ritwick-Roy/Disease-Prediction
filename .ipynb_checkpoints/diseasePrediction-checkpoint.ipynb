{
 "cells": [
  {
   "cell_type": "markdown",
   "id": "9131695d",
   "metadata": {},
   "source": [
    "#### Importing libraries"
   ]
  },
  {
   "cell_type": "code",
   "execution_count": null,
   "id": "9c78df25",
   "metadata": {},
   "outputs": [],
   "source": [
    "import numpy as np\n",
    "import pandas as pd\n",
    "import matplotlib.pyplot as plt\n",
    "from sklearn.model_selection import train_test_split,cross_val_score\n",
    "from sklearn.metrics import mean_absolute_error,accuracy_score\n",
    "from sklearn.compose import ColumnTransformer\n",
    "from sklearn.pipeline import Pipeline\n",
    "from sklearn.impute import SimpleImputer\n",
    "from sklearn.preprocessing import OneHotEncoder,StandardScaler\n",
    "from xgboost import XGBClassifier"
   ]
  },
  {
   "cell_type": "markdown",
   "id": "941b2477",
   "metadata": {},
   "source": [
    "#### Fetch and preprocess data using pipeline"
   ]
  },
  {
   "cell_type": "code",
   "execution_count": null,
   "id": "be7a02d1",
   "metadata": {},
   "outputs": [],
   "source": [
    "data=pd.read_csv('training.csv')\n",
    "data=data.iloc[:,:-1]\n",
    "data.head()"
   ]
  },
  {
   "cell_type": "code",
   "execution_count": null,
   "id": "81216176",
   "metadata": {},
   "outputs": [],
   "source": [
    "data.describe()"
   ]
  },
  {
   "cell_type": "code",
   "execution_count": null,
   "id": "c7729db1",
   "metadata": {},
   "outputs": [],
   "source": [
    "temp=data.prognosis.unique()\n",
    "k=0\n",
    "m={}\n",
    "for x in temp:\n",
    "    m[x]=k\n",
    "    k+=1\n",
    "\n",
    "y=data.prognosis.copy()\n",
    "for i in range(len(y)):\n",
    "    y[i]=int(m[y[i]])\n",
    "\n",
    "data.prognosis=y.astype(str).astype(int)"
   ]
  },
  {
   "cell_type": "code",
   "execution_count": null,
   "id": "e049bb9e",
   "metadata": {},
   "outputs": [],
   "source": [
    "X=data.drop(['prognosis'],axis=1)\n",
    "y=data['prognosis']\n",
    "X_train,X_valid,y_train,y_valid=train_test_split(X,y,train_size=0.8,test_size=0.2)\n",
    "y_valid=y_valid.astype(str).astype(int)"
   ]
  },
  {
   "cell_type": "code",
   "execution_count": null,
   "id": "c2602ca3",
   "metadata": {},
   "outputs": [],
   "source": [
    "categorical_cols = [cname for cname in X_train.columns if X_train[cname].dtype == \"object\"]\n",
    "numerical_cols = [cname for cname in X_train.columns if X_train[cname].dtype in ['int64', 'float64']]"
   ]
  },
  {
   "cell_type": "code",
   "execution_count": null,
   "id": "c899432a",
   "metadata": {},
   "outputs": [],
   "source": [
    "numerical_transformer=Pipeline(steps=[\n",
    "    ('impute',SimpleImputer(strategy='constant')),\n",
    "    ('scale',StandardScaler())\n",
    "])\n",
    "categorical_transformer = Pipeline(steps=[\n",
    "    ('imputer', SimpleImputer(strategy='most_frequent')),\n",
    "    ('onehot', OneHotEncoder(handle_unknown='ignore'))\n",
    "])\n",
    "preprocessor = ColumnTransformer(\n",
    "    transformers=[\n",
    "        ('num', numerical_transformer, numerical_cols),\n",
    "        ('cat', categorical_transformer, categorical_cols)\n",
    "    ])"
   ]
  },
  {
   "cell_type": "markdown",
   "id": "050090e3",
   "metadata": {},
   "source": [
    "#### Define model and fit"
   ]
  },
  {
   "cell_type": "code",
   "execution_count": null,
   "id": "f8e74c9d",
   "metadata": {},
   "outputs": [],
   "source": [
    "model=XGBClassifier(use_label_encoder=False)"
   ]
  },
  {
   "cell_type": "code",
   "execution_count": null,
   "id": "d000dfe3",
   "metadata": {},
   "outputs": [],
   "source": [
    "pipe=Pipeline(steps=[\n",
    "    ('preprocessor',preprocessor),\n",
    "    ('model',model)\n",
    "])"
   ]
  },
  {
   "cell_type": "code",
   "execution_count": null,
   "id": "a976baab",
   "metadata": {},
   "outputs": [],
   "source": [
    "pipe.fit(X_train,y_train)"
   ]
  },
  {
   "cell_type": "markdown",
   "id": "5057df6f",
   "metadata": {},
   "source": [
    "#### Predict and validate"
   ]
  },
  {
   "cell_type": "code",
   "execution_count": null,
   "id": "ecae59ba",
   "metadata": {},
   "outputs": [],
   "source": [
    "pred=pipe.predict(X_valid)"
   ]
  },
  {
   "cell_type": "code",
   "execution_count": null,
   "id": "024320ee",
   "metadata": {},
   "outputs": [],
   "source": [
    "print(\"Accuracy: %.2f%%\" % (accuracy_score(y_valid,pred) * 100.0))"
   ]
  },
  {
   "cell_type": "code",
   "execution_count": null,
   "id": "cbe9793c",
   "metadata": {},
   "outputs": [],
   "source": [
    "plt.bar(range(len(model.feature_importances_)), model.feature_importances_)\n",
    "plt.show()"
   ]
  },
  {
   "cell_type": "code",
   "execution_count": null,
   "id": "c8db8a66",
   "metadata": {},
   "outputs": [],
   "source": [
    "from xgboost import plot_importance\n",
    "plot_importance(model)\n",
    "plt.show()"
   ]
  },
  {
   "cell_type": "markdown",
   "id": "9730c120",
   "metadata": {},
   "source": [
    "#### Extract optimal parameters using feature selection and validate"
   ]
  },
  {
   "cell_type": "code",
   "execution_count": null,
   "id": "5fa8e957",
   "metadata": {},
   "outputs": [],
   "source": [
    "good_features=[]\n",
    "top_fs={}\n",
    "fs=model.feature_importances_\n",
    "for i in range(len(fs)):\n",
    "#     print(X.columns[i],fs[i])\n",
    "    if fs[i]>fs.mean():\n",
    "        good_features.append(X.columns[i])\n",
    "        top_fs[X.columns[i]]=fs[i]\n",
    "\n",
    "temp=sorted(top_fs.items(), key =\n",
    "             lambda kv:(kv[1], kv[0])) \n",
    "custom_features=[]\n",
    "for i in range(int(input('Enter number of features:'))):\n",
    "    custom_features.append(temp[i][0])\n",
    "custom_features"
   ]
  },
  {
   "cell_type": "code",
   "execution_count": null,
   "id": "481beff7",
   "metadata": {},
   "outputs": [],
   "source": [
    "good_features=custom_features"
   ]
  },
  {
   "cell_type": "code",
   "execution_count": null,
   "id": "2003129d",
   "metadata": {},
   "outputs": [],
   "source": [
    "opt_X=data[good_features]\n",
    "opt_X.head()"
   ]
  },
  {
   "cell_type": "code",
   "execution_count": null,
   "id": "ea6eb84d",
   "metadata": {},
   "outputs": [],
   "source": [
    "opt_X.describe()"
   ]
  },
  {
   "cell_type": "code",
   "execution_count": null,
   "id": "06d7234d",
   "metadata": {},
   "outputs": [],
   "source": [
    "opt_y=data['prognosis']\n",
    "opt_y"
   ]
  },
  {
   "cell_type": "code",
   "execution_count": null,
   "id": "fde14917",
   "metadata": {},
   "outputs": [],
   "source": [
    "opt_X_train,opt_X_valid,opt_y_train,opt_y_valid=train_test_split(opt_X,opt_y,test_size=0.2,train_size=0.8)"
   ]
  },
  {
   "cell_type": "code",
   "execution_count": null,
   "id": "24a1ed26",
   "metadata": {},
   "outputs": [],
   "source": [
    "model.fit(opt_X_train,opt_y_train)"
   ]
  },
  {
   "cell_type": "code",
   "execution_count": null,
   "id": "a4e0b4e2",
   "metadata": {},
   "outputs": [],
   "source": [
    "opt_pred=model.predict(opt_X_valid)"
   ]
  },
  {
   "cell_type": "code",
   "execution_count": null,
   "id": "0c14a47b",
   "metadata": {},
   "outputs": [],
   "source": [
    "print(\"Accuracy: %.2f%%\" % (accuracy_score(opt_y_valid,opt_pred) * 100.0))"
   ]
  },
  {
   "cell_type": "markdown",
   "id": "04143225",
   "metadata": {},
   "source": [
    "#### Final testing"
   ]
  },
  {
   "cell_type": "code",
   "execution_count": null,
   "id": "2dad9406",
   "metadata": {},
   "outputs": [],
   "source": [
    "testing=pd.read_csv('testing.csv')\n",
    "testing.describe()"
   ]
  },
  {
   "cell_type": "code",
   "execution_count": null,
   "id": "8dde7d86",
   "metadata": {},
   "outputs": [],
   "source": [
    "testing.head()"
   ]
  },
  {
   "cell_type": "code",
   "execution_count": null,
   "id": "35a73fa2",
   "metadata": {},
   "outputs": [],
   "source": [
    "final_X=data.drop(['prognosis'],axis=1)\n",
    "final_y=data['prognosis']\n",
    "result=model.predict(final_X[good_features])"
   ]
  },
  {
   "cell_type": "code",
   "execution_count": null,
   "id": "f4cccd0c",
   "metadata": {},
   "outputs": [],
   "source": [
    "print(\"Accuracy: %.2f%%\" % (accuracy_score(final_y,result) * 100.0))"
   ]
  }
 ],
 "metadata": {
  "kernelspec": {
   "display_name": "Python 3",
   "language": "python",
   "name": "python3"
  },
  "language_info": {
   "codemirror_mode": {
    "name": "ipython",
    "version": 3
   },
   "file_extension": ".py",
   "mimetype": "text/x-python",
   "name": "python",
   "nbconvert_exporter": "python",
   "pygments_lexer": "ipython3",
   "version": "3.8.8"
  }
 },
 "nbformat": 4,
 "nbformat_minor": 5
}
