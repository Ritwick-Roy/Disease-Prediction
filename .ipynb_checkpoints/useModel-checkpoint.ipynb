{
 "cells": [
  {
   "cell_type": "code",
   "execution_count": 1,
   "id": "d5487ecc",
   "metadata": {},
   "outputs": [],
   "source": [
    "import pandas as pd\n",
    "from sklearn.metrics import accuracy_score\n",
    "from xgboost import XGBClassifier"
   ]
  },
  {
   "cell_type": "code",
   "execution_count": 2,
   "id": "8deb2e63",
   "metadata": {},
   "outputs": [],
   "source": [
    "model=XGBClassifier()\n",
    "model.load_model('xgmodel.json')"
   ]
  },
  {
   "cell_type": "code",
   "execution_count": 3,
   "id": "550ada4d",
   "metadata": {},
   "outputs": [],
   "source": [
    "data=pd.read_csv('testing.csv')\n",
    "y=data['prognosis'].unique()\n",
    "k=0\n",
    "m={}\n",
    "for x in y:\n",
    "    m[x]=k\n",
    "    k+=1\n",
    "\n",
    "y=data.prognosis.copy()\n",
    "for i in range(len(y)):\n",
    "    y[i]=int(m[y[i]])\n",
    "\n",
    "y=y.astype(str).astype(int)"
   ]
  },
  {
   "cell_type": "code",
   "execution_count": 7,
   "id": "7e2500a2",
   "metadata": {},
   "outputs": [],
   "source": [
    "X=data[['muscle_weakness',\n",
    " 'mild_fever',\n",
    " 'rusty_sputum',\n",
    " 'blood_in_sputum',\n",
    " 'pain_behind_the_eyes',\n",
    " 'coma',\n",
    " 'throat_irritation',\n",
    " 'increased_appetite',\n",
    " 'receiving_blood_transfusion',\n",
    " 'enlarged_thyroid',\n",
    " 'slurred_speech',\n",
    " 'spotting_ urination',\n",
    " 'sunken_eyes',\n",
    " 'nodal_skin_eruptions',\n",
    " 'malaise',\n",
    " 'pus_filled_pimples',\n",
    " 'unsteadiness',\n",
    " 'lack_of_concentration',\n",
    " 'weakness_in_limbs',\n",
    " 'watering_from_eyes',\n",
    " 'muscle_wasting',\n",
    " 'altered_sensorium',\n",
    " 'ulcers_on_tongue',\n",
    " 'belly_pain',\n",
    " 'visual_disturbances',\n",
    " 'hip_joint_pain',\n",
    " 'cramps',\n",
    " 'mucoid_sputum',\n",
    " 'passage_of_gases',\n",
    " 'irritability',\n",
    " 'blister',\n",
    " 'movement_stiffness',\n",
    " 'distention_of_abdomen',\n",
    " 'pain_during_bowel_movements']]"
   ]
  },
  {
   "cell_type": "code",
   "execution_count": 8,
   "id": "c3b11a80",
   "metadata": {},
   "outputs": [],
   "source": [
    "pred=model.predict(X)"
   ]
  },
  {
   "cell_type": "code",
   "execution_count": 10,
   "id": "fa583105",
   "metadata": {},
   "outputs": [
    {
     "ename": "AttributeError",
     "evalue": "'XGBClassifier' object has no attribute 'features'",
     "output_type": "error",
     "traceback": [
      "\u001b[1;31m---------------------------------------------------------------------------\u001b[0m",
      "\u001b[1;31mAttributeError\u001b[0m                            Traceback (most recent call last)",
      "\u001b[1;32m<ipython-input-10-ccb6b69e6ac2>\u001b[0m in \u001b[0;36m<module>\u001b[1;34m\u001b[0m\n\u001b[1;32m----> 1\u001b[1;33m \u001b[0mmodel\u001b[0m\u001b[1;33m.\u001b[0m\u001b[0mfeatures\u001b[0m\u001b[1;33m\u001b[0m\u001b[1;33m\u001b[0m\u001b[0m\n\u001b[0m",
      "\u001b[1;31mAttributeError\u001b[0m: 'XGBClassifier' object has no attribute 'features'"
     ]
    }
   ],
   "source": [
    "model.features"
   ]
  },
  {
   "cell_type": "code",
   "execution_count": 9,
   "id": "2c530b1a",
   "metadata": {},
   "outputs": [
    {
     "name": "stdout",
     "output_type": "stream",
     "text": [
      "Accuracy: 80.95%\n"
     ]
    }
   ],
   "source": [
    "print(\"Accuracy: %.2f%%\" % (accuracy_score(y,pred) * 100.0))"
   ]
  },
  {
   "cell_type": "code",
   "execution_count": 11,
   "id": "18c81e44",
   "metadata": {},
   "outputs": [],
   "source": [
    "import json"
   ]
  },
  {
   "cell_type": "code",
   "execution_count": 16,
   "id": "9d1896ab",
   "metadata": {},
   "outputs": [],
   "source": [
    "no=json.load(open('xgmodel.json'))"
   ]
  },
  {
   "cell_type": "code",
   "execution_count": 17,
   "id": "72f926da",
   "metadata": {},
   "outputs": [
    {
     "ename": "AttributeError",
     "evalue": "'dict' object has no attribute 'learning'",
     "output_type": "error",
     "traceback": [
      "\u001b[1;31m---------------------------------------------------------------------------\u001b[0m",
      "\u001b[1;31mAttributeError\u001b[0m                            Traceback (most recent call last)",
      "\u001b[1;32m<ipython-input-17-26856aa38b28>\u001b[0m in \u001b[0;36m<module>\u001b[1;34m\u001b[0m\n\u001b[1;32m----> 1\u001b[1;33m \u001b[0mno\u001b[0m\u001b[1;33m.\u001b[0m\u001b[0mlearning\u001b[0m\u001b[1;33m\u001b[0m\u001b[1;33m\u001b[0m\u001b[0m\n\u001b[0m",
      "\u001b[1;31mAttributeError\u001b[0m: 'dict' object has no attribute 'learning'"
     ]
    }
   ],
   "source": [
    "no.learning"
   ]
  },
  {
   "cell_type": "code",
   "execution_count": null,
   "id": "4b71b9b0",
   "metadata": {},
   "outputs": [],
   "source": []
  }
 ],
 "metadata": {
  "kernelspec": {
   "display_name": "Python 3",
   "language": "python",
   "name": "python3"
  },
  "language_info": {
   "codemirror_mode": {
    "name": "ipython",
    "version": 3
   },
   "file_extension": ".py",
   "mimetype": "text/x-python",
   "name": "python",
   "nbconvert_exporter": "python",
   "pygments_lexer": "ipython3",
   "version": "3.8.8"
  }
 },
 "nbformat": 4,
 "nbformat_minor": 5
}
